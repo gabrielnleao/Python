{
  "nbformat": 4,
  "nbformat_minor": 0,
  "metadata": {
    "colab": {
      "provenance": [],
      "authorship_tag": "ABX9TyPAiGT05YqA7NZQeKYjcS/0"
    },
    "kernelspec": {
      "name": "python3",
      "display_name": "Python 3"
    },
    "language_info": {
      "name": "python"
    }
  },
  "cells": [
    {
      "cell_type": "code",
      "execution_count": null,
      "metadata": {
        "id": "qhkZH2fxoWCz"
      },
      "outputs": [],
      "source": [
        "# Mini-Curso de introdução a Python\n",
        "# Operadores Lógicos em Python\n",
        "\n",
        "# Operador and\n",
        "r = int(input('Qual a sua idade: '))\n",
        "if r >=18  and r <=65:\n",
        "  print('Você é obrigado a votar!')\n",
        "else:\n",
        "  print('Você não é obrigado  a votar!')\n"
      ]
    },
    {
      "cell_type": "code",
      "source": [
        "# Operador or\n",
        "print('1. Idoso')\n",
        "print('2. Gestante')\n",
        "print('3. Cadeirante')\n",
        "print('4. Atendimento comum')\n",
        "rep = int(input('Digite uma opção '))\n",
        "if  (rep==1) or (rep==2) or (rep==3):\n",
        "  print('Você tem direito a fila prioritária!')\n",
        "else:\n",
        "   print('Aguarde sua vez na fila comum')\n"
      ],
      "metadata": {
        "id": "Z4mEwoxlp0CI"
      },
      "execution_count": null,
      "outputs": []
    },
    {
      "cell_type": "code",
      "source": [
        "# Operador not\n",
        "a = 10\n",
        "b = 9\n",
        "print(not a < b)\n",
        "\n",
        "# Outro Exemplo\n",
        "\n",
        "agencia = input('Qual é a sigla da agência espacial norte-americana? ')\n",
        "if not agencia == 'NASA':\n",
        "  print('Errado, tente novamente')\n",
        "else:\n",
        "  print('Correto, NASA!')"
      ],
      "metadata": {
        "id": "sv9ui-4sqCK2"
      },
      "execution_count": null,
      "outputs": []
    }
  ]
}