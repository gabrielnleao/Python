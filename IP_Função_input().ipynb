{
  "nbformat": 4,
  "nbformat_minor": 0,
  "metadata": {
    "colab": {
      "provenance": [],
      "authorship_tag": "ABX9TyNq4cAwZNq26FKcqPj7+4CL"
    },
    "kernelspec": {
      "name": "python3",
      "display_name": "Python 3"
    },
    "language_info": {
      "name": "python"
    }
  },
  "cells": [
    {
      "cell_type": "code",
      "execution_count": null,
      "metadata": {
        "id": "Tys49JDUkz2R"
      },
      "outputs": [],
      "source": [
        "# Mini-Curso de introdução a Python\n",
        "# Função input() em Python\n",
        "\n",
        "nome = input('Digite seu nome ')\n",
        "sobrenome = input('Digite seu sobrenome ')\n",
        "print(f'Seu nome e sobrenome é {nome} {sobrenome}')"
      ]
    }
  ]
}