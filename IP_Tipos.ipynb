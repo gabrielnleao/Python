{
  "nbformat": 4,
  "nbformat_minor": 0,
  "metadata": {
    "colab": {
      "provenance": [],
      "authorship_tag": "ABX9TyOHt/2cIpIvwt/b1enGqFre"
    },
    "kernelspec": {
      "name": "python3",
      "display_name": "Python 3"
    },
    "language_info": {
      "name": "python"
    }
  },
  "cells": [
    {
      "cell_type": "code",
      "execution_count": null,
      "metadata": {
        "id": "G47euBqAdAeB"
      },
      "outputs": [],
      "source": [
        "# Mini-Curso de introdução a Python\n",
        "# Tipos Primitivos de Dados em Python\n",
        "\n",
        "# Tipo Inteiro (int)\n",
        "# Tipo Reais (float)\n",
        "# Tipo Booleanos (boolean)\n",
        "# Tipo Caracteres (string)\n",
        "\n",
        "g = 2;\n",
        "print(type(g))\n",
        "\n",
        "r = 10.02\n",
        "print(type(r))\n",
        "\n",
        "b = True\n",
        "print(type(b))\n",
        "\n",
        "a = 'ola'\n",
        "print(type(a))\n",
        "\n",
        "print(g == r)"
      ]
    }
  ]
}