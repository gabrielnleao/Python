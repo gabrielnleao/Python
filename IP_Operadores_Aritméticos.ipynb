{
  "nbformat": 4,
  "nbformat_minor": 0,
  "metadata": {
    "colab": {
      "provenance": [],
      "authorship_tag": "ABX9TyPdeasHhERG/82QcFAQidWx"
    },
    "kernelspec": {
      "name": "python3",
      "display_name": "Python 3"
    },
    "language_info": {
      "name": "python"
    }
  },
  "cells": [
    {
      "cell_type": "code",
      "execution_count": null,
      "metadata": {
        "id": "yp8SFq3_fVQx"
      },
      "outputs": [],
      "source": [
        "# Mini-Curso de introdução a Python\n",
        "# Operdores Aritméticos em Python\n",
        "\n",
        "# Soma (+)\n",
        "# Subtração (-)\n",
        "# Multiplicação (*)\n",
        "# Divisão (/)\n",
        "# Potencia(**)\n",
        "# Divisão inteira(//)\n",
        "# Resto da divisão(%)\n",
        "\n",
        "r = 3+3\n",
        "print(r)\n",
        "\n",
        "e = 9-3\n",
        "print(e)\n",
        "\n",
        "i = 3*3\n",
        "print(i)\n",
        "\n",
        "l = 9/3\n",
        "print(l)\n",
        "\n",
        "g = 2**3\n",
        "print(g)\n",
        "\n",
        "a = 10//3\n",
        "print(a)\n",
        "\n",
        "b = 10%3\n",
        "print(b)\n",
        "\n"
      ]
    }
  ]
}