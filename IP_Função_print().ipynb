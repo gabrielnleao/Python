{
  "nbformat": 4,
  "nbformat_minor": 0,
  "metadata": {
    "colab": {
      "provenance": [],
      "authorship_tag": "ABX9TyPZByTq9wNY4mTDheU94lgP"
    },
    "kernelspec": {
      "name": "python3",
      "display_name": "Python 3"
    },
    "language_info": {
      "name": "python"
    }
  },
  "cells": [
    {
      "cell_type": "code",
      "execution_count": null,
      "metadata": {
        "colab": {
          "base_uri": "https://localhost:8080/"
        },
        "id": "JqcHZQtjjmos",
        "outputId": "b46364c5-5db6-46a9-c9b3-bb753583c71c"
      },
      "outputs": [
        {
          "output_type": "stream",
          "name": "stdout",
          "text": [
            "Olá Mundo! 2 3 4 5 True False\n",
            "O número 2 é par.\n",
            "O número {n} é par\n"
          ]
        }
      ],
      "source": [
        "# Mini-Curso de introdução a Python\n",
        "# Função print() em Python\n",
        "\n",
        "print('Olá Mundo!' , 2 , 3 , 4 , 5 , True , False)\n",
        "\n",
        "n = 2\n",
        "print(f'O número {n} é par.')\n",
        "\n",
        "print('O número {n} é par')"
      ]
    }
  ]
}