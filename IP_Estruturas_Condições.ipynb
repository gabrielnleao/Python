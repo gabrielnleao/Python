{
  "nbformat": 4,
  "nbformat_minor": 0,
  "metadata": {
    "colab": {
      "provenance": [],
      "authorship_tag": "ABX9TyMZTWOHHOVQr1RPDqI6fIt/"
    },
    "kernelspec": {
      "name": "python3",
      "display_name": "Python 3"
    },
    "language_info": {
      "name": "python"
    }
  },
  "cells": [
    {
      "cell_type": "code",
      "execution_count": null,
      "metadata": {
        "id": "RXpDLCo-l6Ss"
      },
      "outputs": [],
      "source": [
        "# Mini-Curso de introdução a Python\n",
        "# Estruturas Condicionais e Repetições em Python\n",
        "\n",
        "num = int(input('Digite um número: '))\n",
        "\n",
        "if num % 2 == 0:\n",
        "  print(f'O número {num} é par.')\n",
        "else :\n",
        "  print(f'O número {num} é impar.')"
      ]
    }
  ]
}