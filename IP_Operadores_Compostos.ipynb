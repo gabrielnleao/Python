{
  "nbformat": 4,
  "nbformat_minor": 0,
  "metadata": {
    "colab": {
      "provenance": [],
      "authorship_tag": "ABX9TyMJ/VPNvnpzT1ZzjM4Cb3En"
    },
    "kernelspec": {
      "name": "python3",
      "display_name": "Python 3"
    },
    "language_info": {
      "name": "python"
    }
  },
  "cells": [
    {
      "cell_type": "code",
      "execution_count": null,
      "metadata": {
        "id": "n8lk_f1zijMa"
      },
      "outputs": [],
      "source": [
        "# Mini-Curso de introdução a Python\n",
        "# Operadores Relacionais Compostos em Python\n",
        "\n",
        "# Maior ou Igual a (>=)\n",
        "# Menor ou Igual a (<=)\n",
        "# Diferente  de (!=)\n",
        "\n",
        "g = 2\n",
        "a = 3\n",
        "\n",
        "print(g >= a)\n",
        "\n",
        "print(g <= a)\n",
        "\n",
        "print(g != a)\n"
      ]
    }
  ]
}