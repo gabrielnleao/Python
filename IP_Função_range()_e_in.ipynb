{
  "nbformat": 4,
  "nbformat_minor": 0,
  "metadata": {
    "colab": {
      "provenance": [],
      "authorship_tag": "ABX9TyOjH6H8XFXjCY7SRhjU1dBV"
    },
    "kernelspec": {
      "name": "python3",
      "display_name": "Python 3"
    },
    "language_info": {
      "name": "python"
    }
  },
  "cells": [
    {
      "cell_type": "code",
      "execution_count": null,
      "metadata": {
        "id": "Qlgnw2crq5-7"
      },
      "outputs": [],
      "source": [
        "# Mini-Curso de introdução a Python\n",
        "# Função range() e o Operador Lógico in em Python\n",
        "\n",
        "#Função range()\n",
        "g = int(input('Digite um numero: '))\n",
        "if g in range(1,100,1):\n",
        "  print(f'{g} está entre 1 e 99')\n",
        "else:\n",
        "  print(f'{g} não está entre 1 e 99')"
      ]
    }
  ]
}