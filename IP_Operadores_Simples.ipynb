{
  "nbformat": 4,
  "nbformat_minor": 0,
  "metadata": {
    "colab": {
      "provenance": [],
      "authorship_tag": "ABX9TyMfLvhnYlh22tgd6KDkHihN"
    },
    "kernelspec": {
      "name": "python3",
      "display_name": "Python 3"
    },
    "language_info": {
      "name": "python"
    }
  },
  "cells": [
    {
      "cell_type": "code",
      "execution_count": null,
      "metadata": {
        "id": "SNCq3bI0hxG4"
      },
      "outputs": [],
      "source": [
        "# Mini-Curso de introdução a Python\n",
        "# Operadores Relacionais Simples\n",
        "\n",
        "# Maior Que (>)\n",
        "# Menor Que (<)\n",
        "# Igual a (==)\n",
        "\n",
        "g  = 3>2\n",
        "print(g)\n",
        "\n",
        "a = 3<2\n",
        "print(a)\n",
        "\n",
        "b = 3==5\n",
        "print(b)\n"
      ]
    }
  ]
}